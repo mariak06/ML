{
  "nbformat": 4,
  "nbformat_minor": 0,
  "metadata": {
    "colab": {
      "provenance": [],
      "collapsed_sections": [
        "k2Z1dQCIfkGz"
      ]
    },
    "kernelspec": {
      "name": "python3",
      "display_name": "Python 3"
    },
    "language_info": {
      "name": "python"
    }
  },
  "cells": [
    {
      "cell_type": "markdown",
      "source": [
        "# **ANN**\n",
        "**Steps to Build an ANN**\n",
        "1. Import Libraries\n",
        "2. Load MNIST Dataset\n",
        "3. Normalize the Images\n",
        "4. Reshape the Data\n",
        "5. Define the ANN Model\n",
        "6. Compile the Model\n",
        "7. Train the Model\n",
        "8. Evaluate the Model\n",
        "9. Make Predictions\n",
        "10. Display a Prediction"
      ],
      "metadata": {
        "id": "kza5vI_32j25"
      }
    },
    {
      "cell_type": "markdown",
      "source": [
        "## **Step 1: Import Libraries**"
      ],
      "metadata": {
        "id": "k2Z1dQCIfkGz"
      }
    },
    {
      "cell_type": "code",
      "execution_count": 78,
      "metadata": {
        "id": "rVLx9eUiUx_-"
      },
      "outputs": [],
      "source": [
        "import tensorflow as tf\n",
        "from tensorflow import keras\n",
        "import numpy as np\n",
        "import matplotlib.pyplot as plt"
      ]
    },
    {
      "cell_type": "markdown",
      "source": [
        "## **Step 2: Load and Preprocess the Data**\n",
        "*  **28×28** grayscale images of handwritten digits (**0-9**)."
      ],
      "metadata": {
        "id": "rQgOg_T-frgB"
      }
    },
    {
      "cell_type": "code",
      "source": [
        "# Load MNIST dataset (handwritten digits)\n",
        "(x_train, y_train), (x_test, y_test) = keras.datasets.mnist.load_data()"
      ],
      "metadata": {
        "id": "FGXFEYeDWWgj"
      },
      "execution_count": 79,
      "outputs": []
    },
    {
      "cell_type": "code",
      "source": [
        "plt.figure(figsize=(8, 5))\n",
        "\n",
        "for i in range(6):\n",
        "  plt.subplot(2, 3, i+1)   # plt.subplot(rows, cols, index)\n",
        "  plt.imshow(x_train[i], cmap='gray')\n",
        "  plt.title(y_train[i])\n",
        "  plt.axis('off')"
      ],
      "metadata": {
        "colab": {
          "base_uri": "https://localhost:8080/",
          "height": 444
        },
        "id": "rYjeMDQWbWPq",
        "outputId": "e8846456-b92d-468c-df03-b02007fd74aa"
      },
      "execution_count": 81,
      "outputs": [
        {
          "output_type": "display_data",
          "data": {
            "text/plain": [
              "<Figure size 800x500 with 6 Axes>"
            ],
            "image/png": "[encoded data removed]"
          },
          "metadata": {}
        }
      ]
    },
    {
      "cell_type": "markdown",
      "source": [
        "## **Step 3: Normalize the Images**\n",
        "* Neural networks perform better when input values are **between 0 and 1**.\n",
        "* Pixel values range from 0 to 255 (grayscale), we divide by 255."
      ],
      "metadata": {
        "id": "tY_L-StNf4g6"
      }
    },
    {
      "cell_type": "code",
      "source": [
        "# Normalize pixel values to range [0,1]\n",
        "x_train, x_test = x_train / 255.0, x_test / 255.0"
      ],
      "metadata": {
        "id": "-ZjTfVWub2sL"
      },
      "execution_count": 82,
      "outputs": []
    },
    {
      "cell_type": "markdown",
      "source": [
        "## **Step 4: Reshape the Data**\n",
        "* Neural networks expect inputs as 1D arrays (vectors), but we've 2D (28×28)"
      ],
      "metadata": {
        "id": "910zEAEFjGbX"
      }
    },
    {
      "cell_type": "code",
      "source": [
        "x_train = x_train.reshape(-1, 784)\n",
        "x_test = x_test.reshape(-1, 784)"
      ],
      "metadata": {
        "id": "6ahjpoCgi2I4"
      },
      "execution_count": 83,
      "outputs": []
    },
    {
      "cell_type": "markdown",
      "source": [
        "`x_train = x_train.reshape(60000, 784)`\n",
        "\n",
        "`x_train = x_train.reshape(-1, 784)`\n",
        "\n",
        "* 60000 = -1 = total number of rows\n",
        "* -1 makes the code more flexible, it works even if the number of images changes!"
      ],
      "metadata": {
        "id": "PX9e6qfMlQo1"
      }
    },
    {
      "cell_type": "markdown",
      "source": [
        "## **Step 5: Define the ANN Model**\n",
        "* ANN with 3 layers using Keras\n",
        "\n",
        "* How to choose neurons?\n",
        "    * Start with a power of 2 (e.g., 32, 64, 128, 256)."
      ],
      "metadata": {
        "id": "mUHiQ4ZYoHN2"
      }
    },
    {
      "cell_type": "code",
      "source": [
        "# Define the ANN model\n",
        "model = keras.Sequential([\n",
        "    keras.layers.Dense(128, activation='relu', input_shape=(784, )),  # First hidden layer | input also defined here\n",
        "    keras.layers.Dense(64, activation='relu'),  # Second hidden layer\n",
        "    keras.layers.Dense(10, activation='softmax')  # Output layer (10 classes)\n",
        "])"
      ],
      "metadata": {
        "colab": {
          "base_uri": "https://localhost:8080/"
        },
        "id": "TA2rDA_cjC3q",
        "outputId": "8128b5d6-4be8-477a-8a51-142a30465bfa"
      },
      "execution_count": 85,
      "outputs": [
        {
          "output_type": "stream",
          "name": "stderr",
          "text": [
            "/usr/local/lib/python3.11/dist-packages/keras/src/layers/core/dense.py:87: UserWarning: Do not pass an `input_shape`/`input_dim` argument to a layer. When using Sequential models, prefer using an `Input(shape)` object as the first layer in the model instead.\n",
            "  super().__init__(activity_regularizer=activity_regularizer, **kwargs)\n"
          ]
        }
      ]
    },
    {
      "cell_type": "markdown",
      "source": [
        "## **Step 6: Compile the Model**"
      ],
      "metadata": {
        "id": "LMRbakfusApK"
      }
    },
    {
      "cell_type": "code",
      "source": [
        "# Compile the model\n",
        "model.compile(optimizer='adam', loss='sparse_categorical_crossentropy', metrics=['accuracy'])   # sparse = mcc"
      ],
      "metadata": {
        "id": "fwMsjVXRq7so"
      },
      "execution_count": 86,
      "outputs": []
    },
    {
      "cell_type": "code",
      "source": [
        "print(x_train.shape, y_train.shape)\n",
        "print(x_test.shape, y_test.shape)\n"
      ],
      "metadata": {
        "colab": {
          "base_uri": "https://localhost:8080/"
        },
        "id": "zLBDr6wwwISq",
        "outputId": "d07753d8-c6f6-4e33-e064-df2b144704fb"
      },
      "execution_count": 87,
      "outputs": [
        {
          "output_type": "stream",
          "name": "stdout",
          "text": [
            "(60000, 784) (60000,)\n",
            "(10000, 784) (10000,)\n"
          ]
        }
      ]
    },
    {
      "cell_type": "markdown",
      "source": [
        "## **Step 7: Train the Model**"
      ],
      "metadata": {
        "id": "kZB8PbadtSU4"
      }
    },
    {
      "cell_type": "markdown",
      "source": [
        "* **epochs**=10 → The model will go through the dataset **10 times**.\n",
        "* **validation_data**=(x_test, y_test) → Tests model **accuracy after each epoch**"
      ],
      "metadata": {
        "id": "gY0-8cJjxq8y"
      }
    },
    {
      "cell_type": "code",
      "source": [
        "# Train the model\n",
        "model.fit(x_train, y_train, epochs=10, validation_data=(x_test, y_test))"
      ],
      "metadata": {
        "colab": {
          "base_uri": "https://localhost:8080/"
        },
        "id": "flMB2378stgV",
        "outputId": "500cf8bd-167f-4572-82ce-1168986e37df"
      },
      "execution_count": 88,
      "outputs": [
        {
          "output_type": "stream",
          "name": "stdout",
          "text": [
            "Epoch 1/10\n",
            "\u001b[1m1875/1875\u001b[0m \u001b[32m━━━━━━━━━━━━━━━━━━━━\u001b[0m\u001b[37m\u001b[0m \u001b[1m10s\u001b[0m 5ms/step - accuracy: 0.8740 - loss: 0.4328 - val_accuracy: 0.9646 - val_loss: 0.1134\n",
            "Epoch 2/10\n",
            "\u001b[1m1875/1875\u001b[0m \u001b[32m━━━━━━━━━━━━━━━━━━━━\u001b[0m\u001b[37m\u001b[0m \u001b[1m10s\u001b[0m 5ms/step - accuracy: 0.9698 - loss: 0.1000 - val_accuracy: 0.9693 - val_loss: 0.0956\n",
            "Epoch 3/10\n",
            "\u001b[1m1875/1875\u001b[0m \u001b[32m━━━━━━━━━━━━━━━━━━━━\u001b[0m\u001b[37m\u001b[0m \u001b[1m11s\u001b[0m 5ms/step - accuracy: 0.9789 - loss: 0.0673 - val_accuracy: 0.9688 - val_loss: 0.1073\n",
            "Epoch 4/10\n",
            "\u001b[1m1875/1875\u001b[0m \u001b[32m━━━━━━━━━━━━━━━━━━━━\u001b[0m\u001b[37m\u001b[0m \u001b[1m8s\u001b[0m 4ms/step - accuracy: 0.9827 - loss: 0.0528 - val_accuracy: 0.9774 - val_loss: 0.0768\n",
            "Epoch 5/10\n",
            "\u001b[1m1875/1875\u001b[0m \u001b[32m━━━━━━━━━━━━━━━━━━━━\u001b[0m\u001b[37m\u001b[0m \u001b[1m11s\u001b[0m 4ms/step - accuracy: 0.9873 - loss: 0.0385 - val_accuracy: 0.9746 - val_loss: 0.0868\n",
            "Epoch 6/10\n",
            "\u001b[1m1875/1875\u001b[0m \u001b[32m━━━━━━━━━━━━━━━━━━━━\u001b[0m\u001b[37m\u001b[0m \u001b[1m9s\u001b[0m 5ms/step - accuracy: 0.9893 - loss: 0.0309 - val_accuracy: 0.9802 - val_loss: 0.0654\n",
            "Epoch 7/10\n",
            "\u001b[1m1875/1875\u001b[0m \u001b[32m━━━━━━━━━━━━━━━━━━━━\u001b[0m\u001b[37m\u001b[0m \u001b[1m10s\u001b[0m 4ms/step - accuracy: 0.9917 - loss: 0.0249 - val_accuracy: 0.9765 - val_loss: 0.0818\n",
            "Epoch 8/10\n",
            "\u001b[1m1875/1875\u001b[0m \u001b[32m━━━━━━━━━━━━━━━━━━━━\u001b[0m\u001b[37m\u001b[0m \u001b[1m9s\u001b[0m 4ms/step - accuracy: 0.9928 - loss: 0.0220 - val_accuracy: 0.9772 - val_loss: 0.0872\n",
            "Epoch 9/10\n",
            "\u001b[1m1875/1875\u001b[0m \u001b[32m━━━━━━━━━━━━━━━━━━━━\u001b[0m\u001b[37m\u001b[0m \u001b[1m9s\u001b[0m 5ms/step - accuracy: 0.9940 - loss: 0.0178 - val_accuracy: 0.9770 - val_loss: 0.0859\n",
            "Epoch 10/10\n",
            "\u001b[1m1875/1875\u001b[0m \u001b[32m━━━━━━━━━━━━━━━━━━━━\u001b[0m\u001b[37m\u001b[0m \u001b[1m8s\u001b[0m 4ms/step - accuracy: 0.9939 - loss: 0.0176 - val_accuracy: 0.9772 - val_loss: 0.0962\n"
          ]
        },
        {
          "output_type": "execute_result",
          "data": {
            "text/plain": [
              "<keras.src.callbacks.history.History at 0x790b0ae2ce90>"
            ]
          },
          "metadata": {},
          "execution_count": 88
        }
      ]
    },
    {
      "cell_type": "markdown",
      "source": [
        "- The model makes predictions.\n",
        "- It compares predictions to actual labels (loss calculation).\n",
        "- It updates weights using backpropagation to improve predictions.\n",
        "- This repeats for 10 epochs to improve accuracy."
      ],
      "metadata": {
        "id": "eZzVcLlFySHR"
      }
    },
    {
      "cell_type": "markdown",
      "source": [
        "## **Step 8: Evaluate the Model**\n",
        "- loss (error) and accuracy (performance)."
      ],
      "metadata": {
        "id": "GidsneCnythq"
      }
    },
    {
      "cell_type": "code",
      "source": [
        "# Evaluate the model on test data\n",
        "test_loss, test_acc = model.evaluate(x_test, y_test)\n",
        "\n",
        "print(f\"Test accuracy: {test_acc:.4f}\")\n",
        "print(f\"Test loss: {test_loss:.4f}\")"
      ],
      "metadata": {
        "colab": {
          "base_uri": "https://localhost:8080/"
        },
        "id": "R793i0o7ttFd",
        "outputId": "35a7036b-422c-4c62-a420-6060e7af08f5"
      },
      "execution_count": 95,
      "outputs": [
        {
          "output_type": "stream",
          "name": "stdout",
          "text": [
            "\u001b[1m313/313\u001b[0m \u001b[32m━━━━━━━━━━━━━━━━━━━━\u001b[0m\u001b[37m\u001b[0m \u001b[1m1s\u001b[0m 3ms/step - accuracy: 0.9731 - loss: 0.1224\n",
            "Test accuracy: 0.9772\n",
            "Test loss: 0.0962\n"
          ]
        }
      ]
    },
    {
      "cell_type": "markdown",
      "source": [
        "## **Step 9: Make Predictions**"
      ],
      "metadata": {
        "id": "ZNpsrJn40qBd"
      }
    },
    {
      "cell_type": "code",
      "source": [
        "# Make predictions on test data\n",
        "predictions = model.predict(x_test)"
      ],
      "metadata": {
        "colab": {
          "base_uri": "https://localhost:8080/"
        },
        "id": "8L1JZfq2zKNN",
        "outputId": "612d792e-5051-46b7-b548-fb0bd902d470"
      },
      "execution_count": 98,
      "outputs": [
        {
          "output_type": "stream",
          "name": "stdout",
          "text": [
            "\u001b[1m313/313\u001b[0m \u001b[32m━━━━━━━━━━━━━━━━━━━━\u001b[0m\u001b[37m\u001b[0m \u001b[1m1s\u001b[0m 2ms/step\n"
          ]
        }
      ]
    },
    {
      "cell_type": "markdown",
      "source": [
        "* **argmax** finds the digit with the highest probability."
      ],
      "metadata": {
        "id": "6VfzOY7y1uWj"
      }
    },
    {
      "cell_type": "markdown",
      "source": [
        "## **Step 10: Display a Prediction**"
      ],
      "metadata": {
        "id": "3dlShAQ23W66"
      }
    },
    {
      "cell_type": "code",
      "source": [
        "# Select a test image\n",
        "index = 0  # You can change this index to see other images\n",
        "\n",
        "plt.imshow(x_test[index].reshape(28, 28), cmap='gray')  # Reshape back to 28x28\n",
        "plt.title(f\"Predicted: {np.argmax(predictions[index])}\")  # Show prediction\n",
        "plt.axis('off')\n",
        "plt.show()"
      ],
      "metadata": {
        "colab": {
          "base_uri": "https://localhost:8080/",
          "height": 428
        },
        "id": "uWwrBY1l0u_w",
        "outputId": "8aea5d4f-106a-4353-bf1e-5c79a61b838c"
      },
      "execution_count": 102,
      "outputs": [
        {
          "output_type": "display_data",
          "data": {
            "text/plain": [
              "<Figure size 640x480 with 1 Axes>"
            ],
            "image/png": "[encoded data removed]"
          },
          "metadata": {}
        }
      ]
    }
  ]
}